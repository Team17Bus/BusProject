{
 "cells": [
  {
   "cell_type": "code",
   "execution_count": 3,
   "metadata": {},
   "outputs": [],
   "source": [
    "import pandas as pd\n",
    "import numpy as np\n",
    "import datetime\n",
    "from math import radians, cos, sin, asin, sqrt\n",
    "\n",
    "def coord_distance(coord1, coord2):\n",
    "    \"\"\"\n",
    "    CREDITS TO GEEKSFORGEEKS.ORG: https://www.geeksforgeeks.org/program-distance-two-points-earth/\n",
    "        Function that calculates and returns the distance in meters between two coordinates\n",
    "    Args:\n",
    "        coord1 (numpy.float64, numpy.float64): tuple with latitude & longitude (in that order) for the first coordinate\n",
    "        coord2 (numpy.float64, numpy.float64): tuple with latitude & longitude (in that order) for the second coordinate\n",
    "    Returns:\n",
    "        dist (float): distance in meters\n",
    "    Example call:\n",
    "        coord_distance((52.195248, 21.048823), (52.208840, 21.007883))\n",
    "    \"\"\"\n",
    "\n",
    "    lon1 = radians(coord1[1])\n",
    "    lon2 = radians(coord2[1])\n",
    "    lat1 = radians(coord1[0])\n",
    "    lat2 = radians(coord2[0])\n",
    "\n",
    "    dlon = lon2 - lon1\n",
    "    dlat = lat2 - lat1\n",
    "    a = sin(dlat / 2) ** 2 + cos(lat1) * cos(lat2) * sin(dlon / 2) ** 2\n",
    "\n",
    "    c = 2 * asin(sqrt(a))\n",
    "\n",
    "    # Radius of earth in meters. Use 3956 for miles\n",
    "    r = 6371000\n",
    "\n",
    "    return (c * r)\n"
   ]
  },
  {
   "cell_type": "code",
   "execution_count": 4,
   "metadata": {},
   "outputs": [],
   "source": [
    "from math import sqrt, atan2, pi\n",
    "from random import randint\n",
    "import matplotlib.pyplot as plt\n",
    "import numpy as np\n",
    "\n",
    "def make_line(coord1, S):\n",
    "    \"\"\"\n",
    "    Returns the equation of the line that passes through coord1 and S\n",
    "    :param coord1: (latitude, longitude) tuple -- is either A or B in the ASB method\n",
    "    :param S: (latitude, longitude) tuple -- these are the coordinates of the busstop\n",
    "    :return: (a, b, c) tuple -- parameters of the equation of the line passing through coord1 and S\n",
    "                (where ax + by + c = 0)\n",
    "    \"\"\"\n",
    "    x1, y1 = coord1\n",
    "    x2, y2 = S\n",
    "    a = y1 - y2\n",
    "    b = x2 - x1\n",
    "    c = (x1 - x2) * y1 + (y2 - y1) * x1\n",
    "    return a, b, c\n",
    "\n",
    "def lines_intersection(line1, line2):\n",
    "    \"\"\"\n",
    "    Get the coordinate at which two lines intersect\n",
    "    Used to assert that the lines cross at the busstop S\n",
    "    :param line1: (a1, b1, c1) tuple -- parameters of the equation of line 1\n",
    "    :param line2: (a2, b2, c2) tuple -- parameters of the equation of line 2\n",
    "    :return: (latitude, longitude) tuple -- coordinate of the intersection of line 1 and 2\n",
    "    \"\"\"\n",
    "    a1, b1, c1 = line1\n",
    "    a2, b2, c2 = line2\n",
    "    x = (b1 * c2 - b2 * c1) / (a1 * b2 - a2 * b1)\n",
    "    y = (c1 * a2 - a1 * c2) / (a1 * b2 - a2 * b1)\n",
    "    return x, y\n",
    "\n",
    "def distance(coord1, coord2):\n",
    "    x1, y1 = coord1\n",
    "    x2, y2 = coord2\n",
    "    return sqrt(((x1 - x2) ** 2) + ((y1 - y2) ** 2))\n",
    "\n",
    "\n",
    "def get_angle_bisector(A, S, B):\n",
    "    \"\"\"\n",
    "    Finds and returns the equation of the line that bisects the lines between A-S and S-B such that the angles\n",
    "    between those lines are equal\n",
    "    :param S: (latitude, longitude) tuple -- busstop coordinates\n",
    "    :param A: (latitude, longitude) tuple -- first time in proximity of busstop coordinates\n",
    "    :param B: (latitude, longitude) tuple -- last time in proximity of busstop coordinates\n",
    "    :return: (a, b, c) tuple -- parameters of the equation of the angle bisector of lines A-S and S-B\n",
    "    \"\"\"\n",
    "\n",
    "    # below is not completely correct, but an approximation to the angle bisector;\n",
    "    # works if A and B do not have distances from S that are too different\n",
    "    # Since in our case A and B are both approx r (=300?) away from S, this should work.\n",
    "    midpoint_AB = ((A[0] + B[0]) / 2, (A[1] + B[1]) / 2)\n",
    "    return make_line(midpoint_AB, S)\n",
    "\n",
    "    # correct way, but does not work for all cases for some reason...\n",
    "    \"\"\" \n",
    "    a1, b1, c1 = make_line(A, S)\n",
    "    a2, b2, c2 = make_line(B, S)\n",
    "    print(S)\n",
    "    print(lines_intersection((a1, b1, c1), (a2, b2, c2)))\n",
    "    denom1 = sqrt(a1 ** 2 + b1 ** 2)\n",
    "    denom2 = sqrt(a2 ** 2 + b2 ** 2)\n",
    "    # angle between A, S, and B\n",
    "    angle_ASB = atan2(B[1] - S[1], B[0] - S[0]) - atan2(A[1] - S[1], A[0] - S[0])\n",
    "    ASB_is_obtuse = False  # flag whether ASB angle > 0.5*pi\n",
    "    if abs(angle_ASB) > 0.5 * pi:\n",
    "        ASB_is_obtuse = True\n",
    "    bisector1 = (a1 / denom1 - a2 / denom2,\n",
    "                 b1 / denom1 - b2 / denom2,\n",
    "                 c1 / denom1 - c2 / denom2)\n",
    "    # if bisector1 has tan(theta) > 1, then it bisects the obtuse angle\n",
    "    if abs((a1 * bisector1[1] - bisector1[0] * b1) / (a1 * bisector1[0] + b1 * bisector1[1])) > 1 and ASB_is_obtuse:\n",
    "        return bisector1\n",
    "    else:\n",
    "        bisector2 = (a1 / denom1 + a2 / denom2,\n",
    "                     b1 / denom1 + b2 / denom2,\n",
    "                     c1 / denom1 + c2 / denom2)\n",
    "        return bisector2\n",
    "    \"\"\"\n",
    "\n",
    "\n",
    "def is_past_angle_bisector(A, coord, angle_bisector):\n",
    "    \"\"\"\n",
    "    Checks whether a coordinate is on the other side of the angle bisector compared to A\n",
    "    :param A: (latitude, longitude) tuple --  the coordinates where the bus is coming from (coordinates of when the bus\n",
    "    enters the circle around the busstop for the first time)\n",
    "    :param coord: (latitude, longitude) tuple -- the coordinates for which we want to check\n",
    "    whether it is on the other side of the line compared to a or not\n",
    "    :param angle_bisector: (a, b, c) tuple -- parameters of the equation of the angle bisector\n",
    "    :return: True if coord is on the other side of the line compared to A, False otherwise\n",
    "    \"\"\"\n",
    "    a1, b1, c1 = angle_bisector\n",
    "    value_A = a1 * A[0] + b1 * A[1] + c1\n",
    "    value_coord = a1 * coord[0] + b1 * coord[1] + c1\n",
    "\n",
    "    if (value_A <= 0 and value_coord <= 0) or (value_A >= 0 and value_coord >= 0):\n",
    "        return False\n",
    "    else:\n",
    "        return True\n",
    "\n",
    "def visualize_ASB(A, S, B, coord, R=2):\n",
    "    # plot lines\n",
    "    a1, b1, c1 = make_line(A, S)\n",
    "    a2, b2, c2 = make_line(B, S)\n",
    "\n",
    "    # line AS\n",
    "    x1 = np.linspace(S[0] - R * 1.25, S[0] + R * 1.25, 100)\n",
    "    y1 = -a1/b1 * x1 - c1/b1\n",
    "    plt.plot(x1, y1, '-g', label='line AS')\n",
    "\n",
    "    # line BS\n",
    "    x2 = np.linspace(S[0] - R * 1.25, S[0] + R * 1.25, 100)\n",
    "    y2 = -a2/b2 * x2 - c2/b2\n",
    "    plt.plot(x2, y2, '-b', label='line BS')\n",
    "\n",
    "    # angle bisector\n",
    "    a3, b3, c3 = get_angle_bisector(A, S, B)\n",
    "    x3 = np.linspace(S[0] - R * 1.25, S[0] + R * 1.25, 100)\n",
    "    y3 = -a3 / b3 * x3 - c3 / b3\n",
    "    plt.plot(x3, y3, '-r', label='Angle Bisector')\n",
    "\n",
    "    # A, S, B\n",
    "    plt.plot(A[0], A[1], 'go')\n",
    "    plt.plot(B[0], B[1], 'bo')\n",
    "    plt.plot(S[0], S[1], 'ro')\n",
    "\n",
    "    # coord\n",
    "    plt.plot(coord[0], coord[1], 'ro')\n",
    "\n",
    "    plt.title(f'Coord is past angle bisector? {is_past_angle_bisector(A, coord, (a3, b3, c3))}')\n",
    "\n",
    "    # circle with radius R centered around S\n",
    "    \"\"\" TODO\n",
    "    theta = np.linspace(0, 2 * np.pi, 100)\n",
    "    x1 = R * np.cos(theta)\n",
    "    x2 = R * np.sin(theta)\n",
    "    plt.plot(x1, x2, color='black')\n",
    "    \"\"\"\n",
    "\n",
    "    plt.xlabel('x', color='#1C2833')\n",
    "    plt.ylabel('y', color='#1C2833')\n",
    "    plt.legend(loc='upper left')\n",
    "    plt.grid()\n",
    "    plt.show()"
   ]
  },
  {
   "cell_type": "markdown",
   "metadata": {},
   "source": [
    "Import data, create new column with the line of each bus by extracting the first part of the trip_id field. "
   ]
  },
  {
   "cell_type": "code",
   "execution_count": 5,
   "metadata": {},
   "outputs": [
    {
     "name": "stderr",
     "output_type": "stream",
     "text": [
      "/opt/anaconda3/lib/python3.7/site-packages/IPython/core/interactiveshell.py:3146: DtypeWarning: Columns (4) have mixed types.Specify dtype option on import or set low_memory=False.\n",
      "  interactivity=interactivity, compiler=compiler, result=result)\n"
     ]
    }
   ],
   "source": [
    "import pandas as pd\n",
    "data = pd.read_csv(\"stop_times.txt\", sep=\",\", header=None)\n",
    "data=data.rename(data.iloc[0],axis=1)\n",
    "data=data[1:]\n",
    "trip_id=data['trip_id']\n",
    "x=data['trip_id'].str.split(\"_\",expand=True)\n",
    "lines=x[0]\n",
    "data['Lines']=lines"
   ]
  },
  {
   "cell_type": "markdown",
   "metadata": {},
   "source": [
    "Create a dictionary which contains lines as keys and stops for each line as values"
   ]
  },
  {
   "cell_type": "code",
   "execution_count": 6,
   "metadata": {},
   "outputs": [],
   "source": [
    "busstops_per_line={}\n",
    "df=data\n",
    "for i in range(len(df)):\n",
    "    if df['Lines'].iloc[i] not in busstops_per_line.keys():\n",
    "        busstops_per_line[df['Lines'].iloc[i]]=[df['stop_id'].iloc[i]]\n",
    "    elif df['Lines'].iloc[i] in busstops_per_line.keys():\n",
    "        if df['stop_id'].iloc[i] not in busstops_per_line[df['Lines'].iloc[i]]:\n",
    "            busstops_per_line.setdefault(df['Lines'].iloc[i]).append(df['stop_id'].iloc[i])"
   ]
  },
  {
   "cell_type": "markdown",
   "metadata": {},
   "source": [
    "#set up a python dictionary that holds the reported coordinates of _bus_ when _bus_ is within R meters of _S_:\n",
    "asb_dict = defaultdict(list)"
   ]
  },
  {
   "cell_type": "code",
   "execution_count": 32,
   "metadata": {},
   "outputs": [],
   "source": [
    "stops= pd.read_csv(\"stops.txt\", sep=\",\", header=None)\n",
    "stops=stops.rename(stops.iloc[0],axis=1)\n",
    "stops=stops[1:]\n",
    "import pandas as pd\n",
    "locations=pd.read_csv(\"t_2020_09_01_22_30\",sep=\";\", header=None)\n",
    "locations['Longitude']=locations.iloc[:,3].rename('Longitude',axis=1)\n",
    "locations['Latitude']=locations.iloc[:,4].rename('Latitude',axis=1)\n",
    "\n",
    "locations.iloc[:,5]=locations.iloc[:,5].str.replace(\"T\", \" \")\n",
    "locations.iloc[:,5]=locations.iloc[:,5].str[:-4]"
   ]
  },
  {
   "cell_type": "markdown",
   "metadata": {},
   "source": [
    "Reduce the size of both datasets for faster trials"
   ]
  },
  {
   "cell_type": "code",
   "execution_count": 33,
   "metadata": {},
   "outputs": [
    {
     "data": {
      "text/html": [
       "<div>\n",
       "<style scoped>\n",
       "    .dataframe tbody tr th:only-of-type {\n",
       "        vertical-align: middle;\n",
       "    }\n",
       "\n",
       "    .dataframe tbody tr th {\n",
       "        vertical-align: top;\n",
       "    }\n",
       "\n",
       "    .dataframe thead th {\n",
       "        text-align: right;\n",
       "    }\n",
       "</style>\n",
       "<table border=\"1\" class=\"dataframe\">\n",
       "  <thead>\n",
       "    <tr style=\"text-align: right;\">\n",
       "      <th></th>\n",
       "      <th>0</th>\n",
       "      <th>1</th>\n",
       "      <th>2</th>\n",
       "      <th>3</th>\n",
       "      <th>4</th>\n",
       "      <th>5</th>\n",
       "      <th>Longitude</th>\n",
       "      <th>Latitude</th>\n",
       "    </tr>\n",
       "  </thead>\n",
       "  <tbody>\n",
       "    <tr>\n",
       "      <th>0</th>\n",
       "      <td>196</td>\n",
       "      <td>2.0</td>\n",
       "      <td>2020-09-01 21:29:58</td>\n",
       "      <td>21.162977</td>\n",
       "      <td>52.260264</td>\n",
       "      <td>2020-09-01 21:30:12</td>\n",
       "      <td>21.162977</td>\n",
       "      <td>52.260264</td>\n",
       "    </tr>\n",
       "    <tr>\n",
       "      <th>1</th>\n",
       "      <td>311</td>\n",
       "      <td>1.0</td>\n",
       "      <td>2020-09-01 21:09:59</td>\n",
       "      <td>21.115079</td>\n",
       "      <td>52.234589</td>\n",
       "      <td>2020-09-01 21:30:18</td>\n",
       "      <td>21.115079</td>\n",
       "      <td>52.234589</td>\n",
       "    </tr>\n",
       "    <tr>\n",
       "      <th>2</th>\n",
       "      <td>222</td>\n",
       "      <td>5.0</td>\n",
       "      <td>2020-09-01 19:10:25</td>\n",
       "      <td>20.995193</td>\n",
       "      <td>52.186562</td>\n",
       "      <td>2020-09-01 21:30:18</td>\n",
       "      <td>20.995193</td>\n",
       "      <td>52.186562</td>\n",
       "    </tr>\n",
       "  </tbody>\n",
       "</table>\n",
       "</div>"
      ],
      "text/plain": [
       "     0    1                    2          3          4                    5  \\\n",
       "0  196  2.0  2020-09-01 21:29:58  21.162977  52.260264  2020-09-01 21:30:12   \n",
       "1  311  1.0  2020-09-01 21:09:59  21.115079  52.234589  2020-09-01 21:30:18   \n",
       "2  222  5.0  2020-09-01 19:10:25  20.995193  52.186562  2020-09-01 21:30:18   \n",
       "\n",
       "   Longitude   Latitude  \n",
       "0  21.162977  52.260264  \n",
       "1  21.115079  52.234589  \n",
       "2  20.995193  52.186562  "
      ]
     },
     "execution_count": 33,
     "metadata": {},
     "output_type": "execute_result"
    }
   ],
   "source": [
    "#locations=locations[0:500]\n",
    "locations[0:3]\n"
   ]
  },
  {
   "cell_type": "markdown",
   "metadata": {},
   "source": [
    "Dictionary that contains the coordinates of all bus stops"
   ]
  },
  {
   "cell_type": "code",
   "execution_count": 34,
   "metadata": {},
   "outputs": [
    {
     "name": "stdout",
     "output_type": "stream",
     "text": [
      "      stop_id               stop_name   stop_lat   stop_lon  \\\n",
      "1     1001_01             Kijowska 01  52.248455  21.044827   \n",
      "2     1001_02             Kijowska 02  52.249078  21.044443   \n",
      "3     1001_03             Kijowska 03  52.248998  21.043983   \n",
      "4     1001_04             Kijowska 04  52.249905  21.041726   \n",
      "5     1001_06             Kijowska 06  52.250008  21.043710   \n",
      "...       ...                     ...        ...        ...   \n",
      "6645  R-11_99       ZEA KLESZCZOWA 99  52.196605  20.922746   \n",
      "6646  R-13_00          ZEA STALOWA 00  52.263590  21.047868   \n",
      "6647  R-13_99          ZEA STALOWA 99  52.263631  21.047922   \n",
      "6648  R-19_00  WYDZIAŁ WŁOŚCIAŃSKA 00  52.271236  20.968586   \n",
      "6649  R-19_99  WYDZIAŁ WŁOŚCIAŃSKA 99  52.271236  20.968496   \n",
      "\n",
      "     wheelchair_boarding  \n",
      "1                      1  \n",
      "2                      1  \n",
      "3                      1  \n",
      "4                      1  \n",
      "5                      1  \n",
      "...                  ...  \n",
      "6645                   0  \n",
      "6646                   0  \n",
      "6647                   0  \n",
      "6648                   0  \n",
      "6649                   0  \n",
      "\n",
      "[6649 rows x 5 columns]\n"
     ]
    }
   ],
   "source": [
    "print(stops)"
   ]
  },
  {
   "cell_type": "code",
   "execution_count": 35,
   "metadata": {},
   "outputs": [],
   "source": [
    "stops_coordinates={}\n",
    "for i in range(len(stops)):\n",
    "    stops_coordinates[stops['stop_id'].iloc[i]]=(float(stops['stop_lat'].iloc[i]),float(stops['stop_lon'].iloc[i]))"
   ]
  },
  {
   "cell_type": "code",
   "execution_count": 36,
   "metadata": {},
   "outputs": [
    {
     "name": "stdout",
     "output_type": "stream",
     "text": [
      "6649\n"
     ]
    },
    {
     "data": {
      "text/plain": [
       "(52.198991, 20.984341)"
      ]
     },
     "execution_count": 36,
     "metadata": {},
     "output_type": "execute_result"
    }
   ],
   "source": [
    "print(len(stops_coordinates))\n",
    "stops_coordinates['4033_02']"
   ]
  },
  {
   "cell_type": "code",
   "execution_count": 61,
   "metadata": {},
   "outputs": [],
   "source": [
    "from datetime import date, datetime, timedelta\n",
    "from collections import defaultdict\n",
    "from time import sleep\n",
    "\n",
    "asb_real = defaultdict(list)\n",
    "arrival_time_estimations = []\n",
    "\n",
    "for i in range(len(locations)):\n",
    "    #print(arrival_time_estimations)\n",
    "    \n",
    "    bus_line=locations.iloc[i,0]\n",
    "    bus_brigade=locations.iloc[i,1]\n",
    "    \n",
    "    \n",
    "    if bus_line in busstops_per_line:\n",
    "        stops = busstops_per_line[bus_line]\n",
    "    # else: debug -- should rarely happen\n",
    "        \n",
    "    \n",
    "    for stop in stops:\n",
    "        if ((bus_line,bus_brigade),(stop)) in asb_real.keys(): # Keys are now ((bus,bus_brigade),(stop)) to make it clearer\n",
    "            stop_coordinate=stops_coordinates[stop[1:]] # coordinates of the stop\n",
    "            bus_coordinate=(float(locations['Latitude'].iloc[i]),float(locations['Longitude'].iloc[i]))\n",
    "            distance=coord_distance(bus_coordinate,stop_coordinate)\n",
    "            if distance < 300:\n",
    "                \n",
    "                # APPEND\n",
    "                asb_real[((bus_line,bus_brigade),(stop))].append({'time':[locations.iloc[i,5]],'coord':[(bus_coordinate)]})\n",
    "    \n",
    "            else: # complete ASB\n",
    "\n",
    "                #print(asb_real[((bus,bus_brigade),(stop))][0])  \n",
    "                \n",
    "                A=asb_real[((bus_line,bus_brigade),(stop))][0]['coord']\n",
    "                \n",
    "                if len(asb_real[((bus_line,bus_brigade),(stop))]) == 1:\n",
    "                    arrival_time = asb_real[((bus_line,bus_brigade),(stop))][0]['time'][0]\n",
    "                    #print(f'JUST ONE POINT -- TIME = {arrival_time}')\n",
    "                    arrival_time_estimations.append([bus_line, bus_brigade,stop,arrival_time,None])\n",
    "                    del asb_real[((bus_line,bus_brigade),(stop))]\n",
    "                    continue\n",
    "                \n",
    "                elif len(asb_real[((bus_line,bus_brigade),(stop))]) == 2: # take average\n",
    "                    \n",
    "                    ts1 = asb_real[((bus_line,bus_brigade),(stop))][0]['time'][0]\n",
    "                    ts2 = asb_real[((bus_line,bus_brigade),(stop))][1]['time'][0]\n",
    "                    ts2_date = datetime.strptime(ts2, '%Y-%m-%d %H:%M:%S')\n",
    "                    average_delta = (ts2_date - ts1_date) / 2\n",
    "                    arrival_time = ts1_date + average_delta\n",
    "                    #print(arrival_time)\n",
    "                    arrival_time_estimations.append([bus_line, bus_brigade,stop,arrival_time,None])\n",
    "                    del asb_real[((bus_line,bus_brigade),(stop))]\n",
    "                    continue\n",
    "\n",
    "                else:\n",
    "                    #print(f' MULTIPLE STAMPS: {asb_real}')\n",
    "\n",
    "                    #print(asb_real[((bus,bus_brigade),(stop))]['coord'])\n",
    "                    \n",
    "                    B=asb_real[((bus_line,bus_brigade),(stop))][-2]['coord']\n",
    "                    \n",
    "                \n",
    "                    S = stop_coordinate\n",
    "                    angle_bisector=get_angle_bisector(A[0], S, B[0])\n",
    "                    index_past_bisector=0\n",
    "                    \n",
    "                    some_coord_past_bisector = False\n",
    "\n",
    "                    for i in range(len(asb_real[((bus_line,bus_brigade),(stop))])):\n",
    "                        \n",
    "                        coord=asb_real[((bus_line,bus_brigade),(stop))][i]['coord']\n",
    "                        #print(coord)\n",
    "\n",
    "                        if is_past_angle_bisector(A[0],coord[0],angle_bisector):\n",
    "                            #print(i)\n",
    "                            index_past_bisector = i\n",
    "                            index_before_bisector = i-1\n",
    "                            some_coord_past_bisector = True\n",
    "                            \n",
    "                            # break out of for loop\n",
    "                            break\n",
    "                    \n",
    "\n",
    "                    if not some_coord_past_bisector: # can happen when there are duplicate items in the list or bus is sitting at exact same location\n",
    "                    # just take the time of entering the radius (might be somewhat optimistic but not a big problem)\n",
    "                        arrival_time = asb_real[((bus_line,bus_brigade),(stop))][0]['time'][0]\n",
    "                        #print(f' NO COORDS PAST BISECTOR -- {arrival_time}')\n",
    "                        arrival_time_estimations.append([bus_line, bus_brigade,stop,arrival_time,None])\n",
    "                        del asb_real[((bus_line,bus_brigade),(stop))]\n",
    "                        continue\n",
    "                    \n",
    "\n",
    "                    time_before_S = asb_real[((bus_line,bus_brigade),(stop))][index_before_bisector]['time'][0]\n",
    "                    time_after_S =  asb_real[((bus_line,bus_brigade),(stop))][index_past_bisector]['time'][0]\n",
    "                    #print('TIME BEFORE AND AFTER BUSSTOP')\n",
    "                    #print(time_before_S)\n",
    "                    #print(time_after_S)\n",
    "                    ts1_date = datetime.strptime(time_before_S, '%Y-%m-%d %H:%M:%S')\n",
    "                    ts2_date = datetime.strptime(time_after_S, '%Y-%m-%d %H:%M:%S')\n",
    "                    average_delta = (ts2_date - ts1_date) / 2\n",
    "                    arrival_time = ts1_date + average_delta\n",
    "                    #print(arrival_time)\n",
    "                    arrival_time_estimations.append([bus_line, bus_brigade,stop,arrival_time,None])\n",
    "                    del asb_real[((bus_line,bus_brigade),(stop))]\n",
    "                    continue\n",
    "\n",
    "        else:\n",
    "            stop_coordinate=stops_coordinates[stop[1:]]\n",
    "            bus_coordinate=(float(locations['Latitude'].iloc[i]),float(locations['Longitude'].iloc[i]))\n",
    "            distance=coord_distance(bus_coordinate,stop_coordinate)\n",
    "\n",
    "            if distance < 300:\n",
    "                \n",
    "                # APPEND\n",
    "                asb_real[((bus_line,bus_brigade),(stop))].append({'time':[locations.iloc[i,5]],'coord':[(bus_coordinate)]})"
   ]
  },
  {
   "cell_type": "code",
   "execution_count": 46,
   "metadata": {},
   "outputs": [
    {
     "data": {
      "text/plain": [
       "'2020-09-01 21:30:37'"
      ]
     },
     "execution_count": 46,
     "metadata": {},
     "output_type": "execute_result"
    }
   ],
   "source": [
    "['2020-09-01 21:30:37'][0]"
   ]
  },
  {
   "cell_type": "code",
   "execution_count": 62,
   "metadata": {},
   "outputs": [
    {
     "name": "stdout",
     "output_type": "stream",
     "text": [
      "[['739', 3.0, ' 3017_01', '2020-09-01 21:30:37', None], ['739', 3.0, ' 3018_01', '2020-09-01 21:30:37', None], ['739', 3.0, ' 3018_02', '2020-09-01 21:30:37', None]]\n"
     ]
    }
   ],
   "source": [
    "print(arrival_time_estimations[0:3])"
   ]
  },
  {
   "cell_type": "code",
   "execution_count": 63,
   "metadata": {},
   "outputs": [],
   "source": [
    "import csv\n",
    "with open('arrival_estimations.csv', 'w') as arrival_times:\n",
    "    arrival_writer = csv.writer(arrival_times, delimiter=',', quotechar='\"')\n",
    "    for i in range(len(arrival_time_estimations)):\n",
    "        arrival_writer.writerow(arrival_time_estimations[i])"
   ]
  },
  {
   "cell_type": "code",
   "execution_count": null,
   "metadata": {},
   "outputs": [],
   "source": []
  }
 ],
 "metadata": {
  "kernelspec": {
   "display_name": "Python 3",
   "language": "python",
   "name": "python3"
  },
  "language_info": {
   "codemirror_mode": {
    "name": "ipython",
    "version": 3
   },
   "file_extension": ".py",
   "mimetype": "text/x-python",
   "name": "python",
   "nbconvert_exporter": "python",
   "pygments_lexer": "ipython3",
   "version": "3.7.4"
  }
 },
 "nbformat": 4,
 "nbformat_minor": 2
}
